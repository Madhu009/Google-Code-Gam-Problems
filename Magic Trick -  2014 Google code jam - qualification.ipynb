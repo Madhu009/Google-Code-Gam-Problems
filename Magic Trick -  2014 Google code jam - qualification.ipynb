{
 "cells": [
  {
   "cell_type": "markdown",
   "metadata": {},
   "source": [
    "### THE PROBLEM DESCRIPTION\n",
    "\n",
    "https://code.google.com/codejam/contest/2974486/dashboard\n",
    "\n",
    "Problem A. Magic Trick"
   ]
  },
  {
   "cell_type": "code",
   "execution_count": 1,
   "metadata": {},
   "outputs": [
    {
     "name": "stdout",
     "output_type": "stream",
     "text": [
      "3\n",
      "2\n",
      "1 2 3 4\n",
      "5 6 7 8\n",
      "9 10 11 12\n",
      "13 14 15 16\n",
      "4\n",
      "3 1 5 4\n",
      "2 6 10 11\n",
      "7 8 12 15\n",
      "16 9 13 14\n",
      "Case #1: Volunteer cheated!\n",
      "3\n",
      "1 2 3 4\n",
      "5 6 7 8\n",
      "9 10 11 12\n",
      "13 14 15 16\n",
      "2\n",
      "1 2 3 4\n",
      "9 5 6 7\n",
      "8 10 11 12\n",
      "13 14 15 16\n",
      "Case #2: 9\n",
      "3\n",
      "2 4 1 3\n",
      "6 9 7 8\n",
      "10 12 13 14\n",
      "11 14 16 5\n",
      "2\n",
      "1 5 16 4\n",
      "12 14 9 7\n",
      "2 3 6 8\n",
      "10 11 13 15\n",
      "Case #3: Bad magician!\n"
     ]
    }
   ],
   "source": [
    "#read no of testcases\n",
    "cases = int(input())\n",
    "for c in range(cases):\n",
    "    \n",
    "    guess_list=[]\n",
    "    for v in range(2):\n",
    "        grid=[]\n",
    "        g = int(input())\n",
    "        for i in range(4):\n",
    "            grid.append(input().split())\n",
    "        guess_list.append(grid[g-1])\n",
    "        \n",
    "    final=[]\n",
    "    for p in guess_list[0]:\n",
    "        if p in guess_list[1]:\n",
    "            final.append(int(p))\n",
    "    \n",
    "    if len(final)>1:\n",
    "        print(\"Case #{}: Bad magician!\".format(c+1))\n",
    "    elif len(final)==1:\n",
    "        print(\"Case #{}: {}\".format(c+1,final[0]))\n",
    "    else:\n",
    "        print(\"Case #{}: Volunteer cheated!\".format(c+1))"
   ]
  },
  {
   "cell_type": "code",
   "execution_count": null,
   "metadata": {},
   "outputs": [],
   "source": []
  }
 ],
 "metadata": {
  "kernelspec": {
   "display_name": "Python 3",
   "language": "python",
   "name": "python3"
  },
  "language_info": {
   "codemirror_mode": {
    "name": "ipython",
    "version": 3
   },
   "file_extension": ".py",
   "mimetype": "text/x-python",
   "name": "python",
   "nbconvert_exporter": "python",
   "pygments_lexer": "ipython3",
   "version": "3.5.2"
  }
 },
 "nbformat": 4,
 "nbformat_minor": 2
}
